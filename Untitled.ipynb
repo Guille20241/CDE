{
 "cells": [
  {
   "cell_type": "code",
   "execution_count": null,
   "id": "6ba0bf67-30d8-435f-a628-e9eb60971d02",
   "metadata": {},
   "outputs": [],
   "source": [
    "import pandas as pd\n",
    "\n",
    "linkGit=       #paste link here!\n",
    "\n",
    "dataRaee=pd.read_csv(linkGit)"
   ]
  },
  {
   "cell_type": "code",
   "execution_count": null,
   "id": "883afc29-3242-48d7-84d2-ead26f0cb966",
   "metadata": {},
   "outputs": [],
   "source": [
    "dataRaee"
   ]
  }
 ],
 "metadata": {
  "kernelspec": {
   "display_name": "Python 3 (ipykernel)",
   "language": "python",
   "name": "python3"
  },
  "language_info": {
   "codemirror_mode": {
    "name": "ipython",
    "version": 3
   },
   "file_extension": ".py",
   "mimetype": "text/x-python",
   "name": "python",
   "nbconvert_exporter": "python",
   "pygments_lexer": "ipython3",
   "version": "3.12.2"
  }
 },
 "nbformat": 4,
 "nbformat_minor": 5
}
